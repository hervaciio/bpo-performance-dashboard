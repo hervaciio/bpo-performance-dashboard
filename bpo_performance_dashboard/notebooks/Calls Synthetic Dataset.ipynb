{
 "cells": [
  {
   "cell_type": "code",
   "execution_count": 1,
   "id": "5f83796e-62af-4c31-b74e-4606eab0b567",
   "metadata": {},
   "outputs": [],
   "source": [
    "import pandas as pd\n",
    "import numpy as np\n",
    "import uuid, random, datetime\n",
    "from faker import Faker\n",
    "fake = Faker()"
   ]
  },
  {
   "cell_type": "code",
   "execution_count": 2,
   "id": "46889f80-639a-4155-af2f-466c936f5d9d",
   "metadata": {},
   "outputs": [],
   "source": [
    "N_CALLS = 20000\n",
    "start = datetime.datetime(2025,9,1)\n",
    "calls = []\n",
    "agents = [ {\"agent_id\":i, \"agent_name\": fake.name(), \"team\": f\"Team {(i%5)+1}\"} for i in range(1,101) ]"
   ]
  },
  {
   "cell_type": "code",
   "execution_count": 3,
   "id": "e2d7aa7d-7812-470a-9676-065c6eb8cb33",
   "metadata": {},
   "outputs": [],
   "source": [
    "for _ in range(N_CALLS):\n",
    "    call_id = str(uuid.uuid4())\n",
    "    agent = random.choice(agents)\n",
    "    call_start = start + datetime.timedelta(minutes=random.randint(0, 30*24*60))\n",
    "    wait_time = max(0, int(np.random.exponential(10)))           # seconds\n",
    "    talk_time = max(5, int(np.random.exponential(180)))         # seconds\n",
    "    hold_time = int(np.random.binomial(1, 0.05) * np.random.exponential(20))\n",
    "    wrap_up_time = max(5, int(np.random.exponential(20)))\n",
    "    call_end = call_start + datetime.timedelta(seconds = wait_time + talk_time + wrap_up_time + hold_time)\n",
    "    abandoned = random.random() < 0.08                          # ~8% abandoned\n",
    "    call_outcome = 'abandoned' if abandoned else 'answered'\n",
    "    csat = None\n",
    "    if not abandoned and random.random() < 0.3:                 # 30% surveyed\n",
    "        csat = random.randint(1,5)\n",
    "    fcr = None if abandoned else (random.random() < 0.8)\n",
    "    calls.append({\n",
    "      \"call_id\": call_id, \"call_start\": call_start, \"call_end\": call_end,\n",
    "      \"wait_time\": wait_time, \"talk_time\": talk_time, \"hold_time\": hold_time,\n",
    "      \"wrap_up_time\": wrap_up_time, \"agent_id\": agent[\"agent_id\"],\n",
    "      \"agent_name\": agent[\"agent_name\"], \"team_name\": agent[\"team\"],\n",
    "      \"queue\": random.choice([\"General\",\"Billing\",\"TechSupport\",\"Sales\"]),\n",
    "      \"call_outcome\": call_outcome, \"csat_score\": csat, \"first_call_resolution\": fcr\n",
    "    })"
   ]
  },
  {
   "cell_type": "code",
   "execution_count": 4,
   "id": "47b4887e-b2e5-4868-b40b-3edff2685623",
   "metadata": {},
   "outputs": [],
   "source": [
    "pd.DataFrame(calls).to_csv(r\"C:\\Users\\Administrator\\Desktop\\PROJECTS\\calls.csv\", index=False)"
   ]
  },
  {
   "cell_type": "code",
   "execution_count": null,
   "id": "1b54a208-64a5-4f1b-b34f-5c0707c55b0a",
   "metadata": {},
   "outputs": [],
   "source": []
  },
  {
   "cell_type": "code",
   "execution_count": null,
   "id": "0c15e68c-b560-4a54-ad28-630449819a72",
   "metadata": {},
   "outputs": [],
   "source": []
  },
  {
   "cell_type": "code",
   "execution_count": null,
   "id": "0f8dddc8-0ac2-4011-8ef2-afae3bc53068",
   "metadata": {},
   "outputs": [],
   "source": []
  },
  {
   "cell_type": "code",
   "execution_count": null,
   "id": "1a449a6e-29c7-4d1c-91bc-e3a9262a1593",
   "metadata": {},
   "outputs": [],
   "source": []
  },
  {
   "cell_type": "code",
   "execution_count": null,
   "id": "f327c9ae-bd86-40eb-a68d-7ac04d85e363",
   "metadata": {},
   "outputs": [],
   "source": []
  },
  {
   "cell_type": "code",
   "execution_count": null,
   "id": "8af49560-2033-4676-8545-0db599dc595e",
   "metadata": {},
   "outputs": [],
   "source": []
  },
  {
   "cell_type": "code",
   "execution_count": null,
   "id": "d75f3857-ff1b-4104-96ea-a2a010ce1a70",
   "metadata": {},
   "outputs": [],
   "source": []
  },
  {
   "cell_type": "code",
   "execution_count": null,
   "id": "239174c4-ce67-4d76-81d8-d320e6b23f09",
   "metadata": {},
   "outputs": [],
   "source": []
  },
  {
   "cell_type": "code",
   "execution_count": null,
   "id": "948d9902-6d0c-4b7b-b4e2-5a186baee24e",
   "metadata": {},
   "outputs": [],
   "source": []
  }
 ],
 "metadata": {
  "kernelspec": {
   "display_name": "Python 3 (ipykernel)",
   "language": "python",
   "name": "python3"
  },
  "language_info": {
   "codemirror_mode": {
    "name": "ipython",
    "version": 3
   },
   "file_extension": ".py",
   "mimetype": "text/x-python",
   "name": "python",
   "nbconvert_exporter": "python",
   "pygments_lexer": "ipython3",
   "version": "3.12.7"
  }
 },
 "nbformat": 4,
 "nbformat_minor": 5
}
